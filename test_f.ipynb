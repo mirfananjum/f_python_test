{
 "cells": [
  {
   "cell_type": "code",
   "execution_count": 4,
   "metadata": {},
   "outputs": [
    {
     "data": {
      "text/plain": [
       "[0, 1, 1, 2, 3, 5, 8]"
      ]
     },
     "execution_count": 4,
     "metadata": {},
     "output_type": "execute_result"
    }
   ],
   "source": [
    "# ⁠Write a function to generate the Fibonacci sequence up to n terms using a loop.\n",
    "def fibonacci(n):\n",
    "    list_1=[0,1]\n",
    "    if n==0 or n==1:\n",
    "        return [n]\n",
    "    for i in range(2,n):\n",
    "        list_1.append(list_1[i-1] + list_1[i-2])\n",
    "    return list_1\n",
    "        \n",
    "            \n",
    "        \n",
    "    \n",
    "fibonacci(7)\n",
    "    "
   ]
  },
  {
   "cell_type": "markdown",
   "metadata": {},
   "source": [
    "# Explain the difference between for and while and doWhile loops in Python. Provide examples of when to use each.\n",
    "\n",
    "# for loop\n",
    "iterate over a sequence items like( list,tuple,range,string) the number of iteration are known before exicution.\n",
    "\n",
    "# while loop\n",
    "Repeate a block of code as long as the given condition is true.\n",
    "# do while loop\n",
    "do while loop is a loop that run at least one time, otherwise run accoding to given condition true or false. \n"
   ]
  },
  {
   "cell_type": "code",
   "execution_count": 82,
   "metadata": {},
   "outputs": [
    {
     "name": "stdout",
     "output_type": "stream",
     "text": [
      "1 2 3 4 5 6 7 8 9 \n",
      "1 2 3 4 5 6 7 8 9 "
     ]
    }
   ],
   "source": [
    "for i in range(1,10):\n",
    "    print(i,end=\" \",)\n",
    "print()\n",
    "\n",
    "n=1\n",
    "while n:\n",
    "    print(n,end=\" \")\n",
    "    n+=1\n",
    "    if n==10:\n",
    "        break\n"
   ]
  },
  {
   "cell_type": "code",
   "execution_count": 67,
   "metadata": {},
   "outputs": [
    {
     "name": "stdout",
     "output_type": "stream",
     "text": [
      "12\n"
     ]
    }
   ],
   "source": [
    "# Given a list of integers, write a function to find the second largest number without using built-in functions like sorted().\n",
    "def second_largest(list_1):\n",
    "    update_list=list(filter(lambda x:x<max(list_1),list_1))\n",
    "    print(max(update_list))\n",
    "    \n",
    "list_1=[2,3,4,12,43,1]\n",
    "second_largest(list_1)"
   ]
  },
  {
   "cell_type": "code",
   "execution_count": 5,
   "metadata": {},
   "outputs": [
    {
     "name": "stdout",
     "output_type": "stream",
     "text": [
      "[2, 3, 5, 4]\n"
     ]
    }
   ],
   "source": [
    "# Write a Python function that removes all duplicate elements from a list while maintaining the order of elements.\n",
    "def removes(list_2):\n",
    "    new_list=[]\n",
    "    for i in list_2:\n",
    "        if i not in new_list:\n",
    "            new_list.append(i)\n",
    "    print(new_list)\n",
    "            \n",
    "\n",
    "\n",
    "list_2=[2,3,2,5,3,5,4]\n",
    "removes(list_2)"
   ]
  },
  {
   "cell_type": "markdown",
   "metadata": {},
   "source": [
    "# Explain the concept of recursion and write a recursive function to calculate the factorial of a number.\n",
    "recursion function is a function that call it self and return the result\n",
    "see example :"
   ]
  },
  {
   "cell_type": "code",
   "execution_count": 55,
   "metadata": {},
   "outputs": [
    {
     "data": {
      "text/plain": [
       "120"
      ]
     },
     "execution_count": 55,
     "metadata": {},
     "output_type": "execute_result"
    }
   ],
   "source": [
    "# Explain the concept of recursion and write a recursive function to calculate the factorial of a number.\n",
    "# Factorial of a positive integer (number) is the sum of multiplication of all the integers smaller than that positive integer\n",
    "# For example, factorial of 5 is 5 * 4 * 3 * 2 * 1 which equals to 120\n",
    "\n",
    "\n",
    "def factorial(n):\n",
    "    if n==0 or n==1:\n",
    "        return n        \n",
    "    else:\n",
    "        return n*factorial(n-1)\n",
    "\n",
    "\n",
    "factorial(5)"
   ]
  },
  {
   "cell_type": "code",
   "execution_count": null,
   "metadata": {},
   "outputs": [],
   "source": [
    "# Explain and demonstrate the use of Python decorators, including a custom decorator that measures the execution time of a function\n"
   ]
  },
  {
   "cell_type": "code",
   "execution_count": 68,
   "metadata": {},
   "outputs": [
    {
     "name": "stdout",
     "output_type": "stream",
     "text": [
      "new_file open\n"
     ]
    }
   ],
   "source": [
    "# Write a context manager that handles file operations, ensuring that files are properly opened and closed, even in cases of exceptions.\n",
    "\n",
    "try:\n",
    "    file_1=open(\"sumri.txt\",\"r\")\n",
    "    if file_1:\n",
    "        print(\"file open successfully\")\n",
    "    \n",
    "except:\n",
    "    file_1=open(\"new_file\",\"w+\")\n",
    "    if file_1:\n",
    "        print(\"new_file open\")\n",
    "file_1.close()"
   ]
  },
  {
   "cell_type": "code",
   "execution_count": null,
   "metadata": {},
   "outputs": [],
   "source": []
  }
 ],
 "metadata": {
  "kernelspec": {
   "display_name": "Python 3",
   "language": "python",
   "name": "python3"
  },
  "language_info": {
   "codemirror_mode": {
    "name": "ipython",
    "version": 3
   },
   "file_extension": ".py",
   "mimetype": "text/x-python",
   "name": "python",
   "nbconvert_exporter": "python",
   "pygments_lexer": "ipython3",
   "version": "3.12.1"
  }
 },
 "nbformat": 4,
 "nbformat_minor": 2
}
